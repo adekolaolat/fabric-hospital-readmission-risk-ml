{
 "cells": [
  {
   "cell_type": "code",
   "execution_count": null,
   "id": "f952439b-4689-4e9d-a92c-d236ce784b5f",
   "metadata": {
    "microsoft": {
     "language": "python",
     "language_group": "synapse_pyspark"
    }
   },
   "outputs": [
    {
     "data": {
      "application/vnd.livy.statement-meta+json": {
       "execution_finish_time": "2025-09-03T21:02:21.8998908Z",
       "execution_start_time": "2025-09-03T21:01:46.2140046Z",
       "livy_statement_state": "available",
       "normalized_state": "finished",
       "parent_msg_id": "6c984f48-63fa-479f-bfc4-4d64e2e74d84",
       "queued_time": "2025-09-03T21:01:46.2128367Z",
       "session_id": "3709d75a-ab80-400c-a309-c96d4977a18a",
       "session_start_time": null,
       "spark_pool": null,
       "state": "finished",
       "statement_id": 4,
       "statement_ids": [
        4
       ]
      },
      "text/plain": [
       "StatementMeta(, 3709d75a-ab80-400c-a309-c96d4977a18a, 4, Finished, Available, Finished)"
      ]
     },
     "metadata": {},
     "output_type": "display_data"
    }
   ],
   "source": [
    "\n",
    "\n",
    "workspace = \"HospAdmission\"\n",
    "write_lakehouse = \"Silver_LH\"\n",
    "read_lakehouse = \"Bronze_LH\"\n",
    "\n",
    "\n",
    "tables = [\"patients\", \"encounters\",\"hospital_costs\", \"labs\"]\n",
    "\n",
    "for table in tables:\n",
    "    # print(f\"Processing {schema}.{table}...\")\n",
    "    # Load CSV from Bronze path\n",
    "    df = spark.read.format(\"csv\") \\\n",
    "        .options(header=True, inferSchema=True) \\\n",
    "        .load(f\"abfss://{workspace}@onelake.dfs.fabric.microsoft.com/{read_lakehouse}.Lakehouse/Files/{table}.csv\")\n",
    "\n",
    "    # # Save as managed Delta table\n",
    "    df.write.format(\"delta\") \\\n",
    "        .mode(\"overwrite\") \\\n",
    "        .save(f\"abfss://{workspace}@onelake.dfs.fabric.microsoft.com/{write_lakehouse}.Lakehouse/Tables/{table}\")\n",
    "\n",
    "    "
   ]
  }
 ],
 "metadata": {
  "dependencies": {
   "lakehouse": {
    "default_lakehouse": "ed9ed5d7-ff51-4204-9388-f310c191beec",
    "default_lakehouse_name": "Bronze_LH",
    "default_lakehouse_workspace_id": "327cfa94-3287-49c6-839f-89b62842547f",
    "known_lakehouses": [
     {
      "id": "ed9ed5d7-ff51-4204-9388-f310c191beec"
     }
    ]
   }
  },
  "kernel_info": {
   "name": "synapse_pyspark"
  },
  "kernelspec": {
   "display_name": "synapse_pyspark",
   "name": "synapse_pyspark"
  },
  "language_info": {
   "name": "python"
  },
  "microsoft": {
   "language": "python",
   "language_group": "synapse_pyspark",
   "ms_spell_check": {
    "ms_spell_check_language": "en"
   }
  },
  "nteract": {
   "version": "nteract-front-end@1.0.0"
  },
  "spark_compute": {
   "compute_id": "/trident/default",
   "session_options": {
    "conf": {
     "spark.synapse.nbs.session.timeout": "1200000"
    }
   }
  }
 },
 "nbformat": 4,
 "nbformat_minor": 5
}
